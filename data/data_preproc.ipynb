{
 "cells": [
  {
   "cell_type": "code",
   "execution_count": 1,
   "metadata": {},
   "outputs": [],
   "source": [
    "import pandas as pd\n",
    "import os\n",
    "import glob\n",
    "import re\n",
    "from sklearn.model_selection import train_test_split"
   ]
  },
  {
   "cell_type": "code",
   "execution_count": 2,
   "metadata": {},
   "outputs": [],
   "source": [
    "def read_data(filename):\n",
    "    df = pd.read_csv(filename, sep='\\t', header=None, index_col=False)\n",
    "    print(f\"Read in data from {filename} of length {df.shape[0]} \")\n",
    "    return df\n",
    "\n",
    "def concatenate_data(datapath):\n",
    "    \"\"\"Concatenate data from multiple files in a given path\"\"\"\n",
    "    files = glob.glob(f'{datapath}/*.tsv')\n",
    "    list_df = []\n",
    "    for f in files:\n",
    "        df = read_data(f)\n",
    "        list_df.append(df)\n",
    "    # Concatenate several smaller DataFrames into one larger one\n",
    "    data = pd.concat(list_df, axis=0, ignore_index=True)\n",
    "    # Drop spurious last column\n",
    "    data.columns = ['id', 'labels', 'text', 'extra']\n",
    "    data = data.drop('extra', axis=1)\n",
    "    print(f\"Total length of data read from '{datapath}': {data.shape[0]}\")\n",
    "    return data"
   ]
  },
  {
   "cell_type": "code",
   "execution_count": 3,
   "metadata": {},
   "outputs": [
    {
     "name": "stdout",
     "output_type": "stream",
     "text": [
      "Read in data from ./data/raw/training/twitter-2016devtest-A.tsv of length 2000 \n",
      "Read in data from ./data/raw/training/twitter-2014sarcasm-A.tsv of length 49 \n",
      "Read in data from ./data/raw/training/twitter-2013dev-A.tsv of length 1654 \n",
      "Read in data from ./data/raw/training/twitter-2016dev-A.tsv of length 1966 \n",
      "Read in data from ./data/raw/training/twitter-2016test-A.tsv of length 20632 \n",
      "Read in data from ./data/raw/training/twitter-2016train-A.tsv of length 5868 \n",
      "Read in data from ./data/raw/training/twitter-2014test-A.tsv of length 1853 \n",
      "Read in data from ./data/raw/training/twitter-2013train-A.tsv of length 9684 \n",
      "Read in data from ./data/raw/training/twitter-2015train-A.tsv of length 489 \n",
      "Read in data from ./data/raw/training/twitter-2015test-A.tsv of length 2390 \n",
      "Read in data from ./data/raw/training/twitter-2013test-A.tsv of length 3547 \n",
      "Total length of data read from './data/raw/training/': 50132\n"
     ]
    }
   ],
   "source": [
    "train = concatenate_data('./data/raw/training/')"
   ]
  },
  {
   "cell_type": "code",
   "execution_count": 4,
   "metadata": {},
   "outputs": [
    {
     "data": {
      "text/html": [
       "<div>\n",
       "<style scoped>\n",
       "    .dataframe tbody tr th:only-of-type {\n",
       "        vertical-align: middle;\n",
       "    }\n",
       "\n",
       "    .dataframe tbody tr th {\n",
       "        vertical-align: top;\n",
       "    }\n",
       "\n",
       "    .dataframe thead th {\n",
       "        text-align: right;\n",
       "    }\n",
       "</style>\n",
       "<table border=\"1\" class=\"dataframe\">\n",
       "  <thead>\n",
       "    <tr style=\"text-align: right;\">\n",
       "      <th></th>\n",
       "      <th>id</th>\n",
       "      <th>labels</th>\n",
       "      <th>text</th>\n",
       "    </tr>\n",
       "  </thead>\n",
       "  <tbody>\n",
       "    <tr>\n",
       "      <th>0</th>\n",
       "      <td>637641175948763136</td>\n",
       "      <td>neutral</td>\n",
       "      <td>@SeeMonterey LOST - Sony cell phone with holid...</td>\n",
       "    </tr>\n",
       "    <tr>\n",
       "      <th>1</th>\n",
       "      <td>637651487762554881</td>\n",
       "      <td>neutral</td>\n",
       "      <td>@PersonaSoda well yeah, that's third parties. ...</td>\n",
       "    </tr>\n",
       "    <tr>\n",
       "      <th>2</th>\n",
       "      <td>637666734300905472</td>\n",
       "      <td>negative</td>\n",
       "      <td>Sony rewards app is like a lot of 19 y.o femal...</td>\n",
       "    </tr>\n",
       "  </tbody>\n",
       "</table>\n",
       "</div>"
      ],
      "text/plain": [
       "                   id    labels  \\\n",
       "0  637641175948763136   neutral   \n",
       "1  637651487762554881   neutral   \n",
       "2  637666734300905472  negative   \n",
       "\n",
       "                                                text  \n",
       "0  @SeeMonterey LOST - Sony cell phone with holid...  \n",
       "1  @PersonaSoda well yeah, that's third parties. ...  \n",
       "2  Sony rewards app is like a lot of 19 y.o femal...  "
      ]
     },
     "execution_count": 4,
     "metadata": {},
     "output_type": "execute_result"
    }
   ],
   "source": [
    "train.head(3)"
   ]
  },
  {
   "cell_type": "code",
   "execution_count": 5,
   "metadata": {},
   "outputs": [
    {
     "name": "stdout",
     "output_type": "stream",
     "text": [
      "Read in data from ./data/raw/test/SemEval2017-task4-test.subtask-A.english.txt of length 11906 \n"
     ]
    },
    {
     "data": {
      "text/html": [
       "<div>\n",
       "<style scoped>\n",
       "    .dataframe tbody tr th:only-of-type {\n",
       "        vertical-align: middle;\n",
       "    }\n",
       "\n",
       "    .dataframe tbody tr th {\n",
       "        vertical-align: top;\n",
       "    }\n",
       "\n",
       "    .dataframe thead th {\n",
       "        text-align: right;\n",
       "    }\n",
       "</style>\n",
       "<table border=\"1\" class=\"dataframe\">\n",
       "  <thead>\n",
       "    <tr style=\"text-align: right;\">\n",
       "      <th></th>\n",
       "      <th>id</th>\n",
       "      <th>labels</th>\n",
       "      <th>text</th>\n",
       "    </tr>\n",
       "  </thead>\n",
       "  <tbody>\n",
       "    <tr>\n",
       "      <th>0</th>\n",
       "      <td>801989080477154944</td>\n",
       "      <td>neutral</td>\n",
       "      <td>#ArianaGrande Ari By Ariana Grande 80% Full ht...</td>\n",
       "    </tr>\n",
       "    <tr>\n",
       "      <th>1</th>\n",
       "      <td>801989272341453952</td>\n",
       "      <td>positive</td>\n",
       "      <td>Ariana Grande KIIS FM Yours Truly CD listening...</td>\n",
       "    </tr>\n",
       "    <tr>\n",
       "      <th>2</th>\n",
       "      <td>801990978424962944</td>\n",
       "      <td>positive</td>\n",
       "      <td>Ariana Grande White House Easter Egg Roll in W...</td>\n",
       "    </tr>\n",
       "  </tbody>\n",
       "</table>\n",
       "</div>"
      ],
      "text/plain": [
       "                   id    labels  \\\n",
       "0  801989080477154944   neutral   \n",
       "1  801989272341453952  positive   \n",
       "2  801990978424962944  positive   \n",
       "\n",
       "                                                text  \n",
       "0  #ArianaGrande Ari By Ariana Grande 80% Full ht...  \n",
       "1  Ariana Grande KIIS FM Yours Truly CD listening...  \n",
       "2  Ariana Grande White House Easter Egg Roll in W...  "
      ]
     },
     "execution_count": 5,
     "metadata": {},
     "output_type": "execute_result"
    }
   ],
   "source": [
    "test = read_data('./data/raw/test/SemEval2017-task4-test.subtask-A.english.txt')\n",
    "test.columns = ['id', 'labels', 'text']\n",
    "test.head(3)"
   ]
  },
  {
   "cell_type": "code",
   "execution_count": 6,
   "metadata": {},
   "outputs": [
    {
     "data": {
      "text/html": [
       "<div>\n",
       "<style scoped>\n",
       "    .dataframe tbody tr th:only-of-type {\n",
       "        vertical-align: middle;\n",
       "    }\n",
       "\n",
       "    .dataframe tbody tr th {\n",
       "        vertical-align: top;\n",
       "    }\n",
       "\n",
       "    .dataframe thead th {\n",
       "        text-align: right;\n",
       "    }\n",
       "</style>\n",
       "<table border=\"1\" class=\"dataframe\">\n",
       "  <thead>\n",
       "    <tr style=\"text-align: right;\">\n",
       "      <th></th>\n",
       "      <th>id</th>\n",
       "      <th>labels</th>\n",
       "      <th>text</th>\n",
       "    </tr>\n",
       "  </thead>\n",
       "  <tbody>\n",
       "    <tr>\n",
       "      <th>11901</th>\n",
       "      <td>805699615781625856</td>\n",
       "      <td>positive</td>\n",
       "      <td>@dansen17 update: Zac Efron kissing a puppy ht...</td>\n",
       "    </tr>\n",
       "    <tr>\n",
       "      <th>11902</th>\n",
       "      <td>805701709356003328</td>\n",
       "      <td>neutral</td>\n",
       "      <td>#zac efron sex pic skins michelle sex https://...</td>\n",
       "    </tr>\n",
       "    <tr>\n",
       "      <th>11903</th>\n",
       "      <td>805701818357579776</td>\n",
       "      <td>neutral</td>\n",
       "      <td>First Look at Neighbors 2 with Zac Efron Shirt...</td>\n",
       "    </tr>\n",
       "    <tr>\n",
       "      <th>11904</th>\n",
       "      <td>805703557081075712</td>\n",
       "      <td>neutral</td>\n",
       "      <td>zac efron poses nude #lovely libra porn https:...</td>\n",
       "    </tr>\n",
       "    <tr>\n",
       "      <th>11905</th>\n",
       "      <td>805704324105940992</td>\n",
       "      <td>neutral</td>\n",
       "      <td>#Fashion #Style The Paperboy (NEW Blu-ray Disc...</td>\n",
       "    </tr>\n",
       "  </tbody>\n",
       "</table>\n",
       "</div>"
      ],
      "text/plain": [
       "                       id    labels  \\\n",
       "11901  805699615781625856  positive   \n",
       "11902  805701709356003328   neutral   \n",
       "11903  805701818357579776   neutral   \n",
       "11904  805703557081075712   neutral   \n",
       "11905  805704324105940992   neutral   \n",
       "\n",
       "                                                    text  \n",
       "11901  @dansen17 update: Zac Efron kissing a puppy ht...  \n",
       "11902  #zac efron sex pic skins michelle sex https://...  \n",
       "11903  First Look at Neighbors 2 with Zac Efron Shirt...  \n",
       "11904  zac efron poses nude #lovely libra porn https:...  \n",
       "11905  #Fashion #Style The Paperboy (NEW Blu-ray Disc...  "
      ]
     },
     "execution_count": 6,
     "metadata": {},
     "output_type": "execute_result"
    }
   ],
   "source": [
    "test.tail()"
   ]
  },
  {
   "cell_type": "markdown",
   "metadata": {},
   "source": [
    "### Assign string label to integer"
   ]
  },
  {
   "cell_type": "code",
   "execution_count": 7,
   "metadata": {},
   "outputs": [],
   "source": [
    "label_map = {\n",
    "    'negative': 0,\n",
    "    'neutral': 1,\n",
    "    'positive': 2\n",
    "}\n",
    "\n",
    "def str2int(label: str):\n",
    "    return label_map[label]"
   ]
  },
  {
   "cell_type": "code",
   "execution_count": 8,
   "metadata": {},
   "outputs": [
    {
     "data": {
      "text/html": [
       "<div>\n",
       "<style scoped>\n",
       "    .dataframe tbody tr th:only-of-type {\n",
       "        vertical-align: middle;\n",
       "    }\n",
       "\n",
       "    .dataframe tbody tr th {\n",
       "        vertical-align: top;\n",
       "    }\n",
       "\n",
       "    .dataframe thead th {\n",
       "        text-align: right;\n",
       "    }\n",
       "</style>\n",
       "<table border=\"1\" class=\"dataframe\">\n",
       "  <thead>\n",
       "    <tr style=\"text-align: right;\">\n",
       "      <th></th>\n",
       "      <th>id</th>\n",
       "      <th>labels</th>\n",
       "      <th>text</th>\n",
       "    </tr>\n",
       "  </thead>\n",
       "  <tbody>\n",
       "    <tr>\n",
       "      <th>0</th>\n",
       "      <td>637641175948763136</td>\n",
       "      <td>1</td>\n",
       "      <td>@SeeMonterey LOST - Sony cell phone with holid...</td>\n",
       "    </tr>\n",
       "    <tr>\n",
       "      <th>1</th>\n",
       "      <td>637651487762554881</td>\n",
       "      <td>1</td>\n",
       "      <td>@PersonaSoda well yeah, that's third parties. ...</td>\n",
       "    </tr>\n",
       "    <tr>\n",
       "      <th>2</th>\n",
       "      <td>637666734300905472</td>\n",
       "      <td>0</td>\n",
       "      <td>Sony rewards app is like a lot of 19 y.o femal...</td>\n",
       "    </tr>\n",
       "  </tbody>\n",
       "</table>\n",
       "</div>"
      ],
      "text/plain": [
       "                   id  labels  \\\n",
       "0  637641175948763136       1   \n",
       "1  637651487762554881       1   \n",
       "2  637666734300905472       0   \n",
       "\n",
       "                                                text  \n",
       "0  @SeeMonterey LOST - Sony cell phone with holid...  \n",
       "1  @PersonaSoda well yeah, that's third parties. ...  \n",
       "2  Sony rewards app is like a lot of 19 y.o femal...  "
      ]
     },
     "execution_count": 8,
     "metadata": {},
     "output_type": "execute_result"
    }
   ],
   "source": [
    "train['labels'] = train['labels'].apply(str2int)\n",
    "train.head(3)"
   ]
  },
  {
   "cell_type": "code",
   "execution_count": 9,
   "metadata": {},
   "outputs": [
    {
     "data": {
      "text/html": [
       "<div>\n",
       "<style scoped>\n",
       "    .dataframe tbody tr th:only-of-type {\n",
       "        vertical-align: middle;\n",
       "    }\n",
       "\n",
       "    .dataframe tbody tr th {\n",
       "        vertical-align: top;\n",
       "    }\n",
       "\n",
       "    .dataframe thead th {\n",
       "        text-align: right;\n",
       "    }\n",
       "</style>\n",
       "<table border=\"1\" class=\"dataframe\">\n",
       "  <thead>\n",
       "    <tr style=\"text-align: right;\">\n",
       "      <th></th>\n",
       "      <th>id</th>\n",
       "      <th>labels</th>\n",
       "      <th>text</th>\n",
       "    </tr>\n",
       "  </thead>\n",
       "  <tbody>\n",
       "    <tr>\n",
       "      <th>0</th>\n",
       "      <td>801989080477154944</td>\n",
       "      <td>1</td>\n",
       "      <td>#ArianaGrande Ari By Ariana Grande 80% Full ht...</td>\n",
       "    </tr>\n",
       "    <tr>\n",
       "      <th>1</th>\n",
       "      <td>801989272341453952</td>\n",
       "      <td>2</td>\n",
       "      <td>Ariana Grande KIIS FM Yours Truly CD listening...</td>\n",
       "    </tr>\n",
       "    <tr>\n",
       "      <th>2</th>\n",
       "      <td>801990978424962944</td>\n",
       "      <td>2</td>\n",
       "      <td>Ariana Grande White House Easter Egg Roll in W...</td>\n",
       "    </tr>\n",
       "  </tbody>\n",
       "</table>\n",
       "</div>"
      ],
      "text/plain": [
       "                   id  labels  \\\n",
       "0  801989080477154944       1   \n",
       "1  801989272341453952       2   \n",
       "2  801990978424962944       2   \n",
       "\n",
       "                                                text  \n",
       "0  #ArianaGrande Ari By Ariana Grande 80% Full ht...  \n",
       "1  Ariana Grande KIIS FM Yours Truly CD listening...  \n",
       "2  Ariana Grande White House Easter Egg Roll in W...  "
      ]
     },
     "execution_count": 9,
     "metadata": {},
     "output_type": "execute_result"
    }
   ],
   "source": [
    "test['labels'] = test['labels'].apply(str2int)\n",
    "test.head(3)"
   ]
  },
  {
   "cell_type": "markdown",
   "metadata": {},
   "source": [
    "### Stratify data and split into training/dev sets"
   ]
  },
  {
   "cell_type": "code",
   "execution_count": 10,
   "metadata": {},
   "outputs": [],
   "source": [
    "train, dev = train_test_split(\n",
    "    train, stratify=train['labels'], test_size=0.1, random_state=353456\n",
    ")"
   ]
  },
  {
   "cell_type": "code",
   "execution_count": 11,
   "metadata": {},
   "outputs": [
    {
     "data": {
      "text/plain": [
       "labels\n",
       "0     7028\n",
       "1    20271\n",
       "2    17819\n",
       "Name: text, dtype: int64"
      ]
     },
     "execution_count": 11,
     "metadata": {},
     "output_type": "execute_result"
    }
   ],
   "source": [
    "train.groupby('labels')['text'].count()"
   ]
  },
  {
   "cell_type": "code",
   "execution_count": 12,
   "metadata": {},
   "outputs": [
    {
     "data": {
      "text/plain": [
       "labels\n",
       "0     781\n",
       "1    2253\n",
       "2    1980\n",
       "Name: text, dtype: int64"
      ]
     },
     "execution_count": 12,
     "metadata": {},
     "output_type": "execute_result"
    }
   ],
   "source": [
    "dev.groupby('labels')['text'].count()"
   ]
  },
  {
   "cell_type": "markdown",
   "metadata": {},
   "source": [
    "### Write processed data"
   ]
  },
  {
   "cell_type": "code",
   "execution_count": 13,
   "metadata": {},
   "outputs": [],
   "source": [
    "output_path = './data/clean'\n",
    "os.makedirs(output_path, exist_ok=True)"
   ]
  },
  {
   "cell_type": "code",
   "execution_count": 14,
   "metadata": {},
   "outputs": [],
   "source": [
    "train[['id', 'text', 'labels']].to_csv(f'{output_path}/train.tsv', sep='\\t', index=None)\n",
    "dev[['id', 'text', 'labels']].to_csv(f'{output_path}/dev.tsv', sep='\\t', index=None)\n",
    "test[['id', 'text', 'labels']].to_csv(f'{output_path}/test.tsv', sep='\\t', index=None)"
   ]
  }
 ],
 "metadata": {
  "kernelspec": {
   "display_name": "Python 3",
   "language": "python",
   "name": "python3"
  },
  "language_info": {
   "codemirror_mode": {
    "name": "ipython",
    "version": 3
   },
   "file_extension": ".py",
   "mimetype": "text/x-python",
   "name": "python",
   "nbconvert_exporter": "python",
   "pygments_lexer": "ipython3",
   "version": "3.6.9"
  }
 },
 "nbformat": 4,
 "nbformat_minor": 4
}
